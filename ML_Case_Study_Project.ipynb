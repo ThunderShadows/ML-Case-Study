{
 "cells": [
  {
   "cell_type": "markdown",
   "id": "4fa2f481-fdac-4978-84f8-4f9d19298461",
   "metadata": {},
   "source": [
    "## Importing the Modules"
   ]
  },
  {
   "cell_type": "code",
   "execution_count": 139,
   "id": "0d1a9a24-e0bf-474f-8534-ca8c0c8d2b2c",
   "metadata": {},
   "outputs": [],
   "source": [
    "import pandas as pd\n",
    "import numpy as np\n",
    "import seaborn as sns\n",
    "import matplotlib.pyplot as plt\n",
    "from sklearn.tree import DecisionTreeClassifier\n",
    "from sklearn.preprocessing import StandardScaler\n",
    "from sklearn.linear_model import LogisticRegression\n",
    "from sklearn.model_selection import train_test_split\n",
    "from sklearn.ensemble import RandomForestClassifier\n",
    "from sklearn.metrics import classification_report, roc_auc_score"
   ]
  },
  {
   "cell_type": "markdown",
   "id": "52de30fb-dd7b-4167-ab8d-bd75cc395bff",
   "metadata": {},
   "source": [
    "## Loading the 3 datasets"
   ]
  },
  {
   "cell_type": "code",
   "execution_count": 91,
   "id": "19eb7ea7-0529-4697-8fbc-b9cd24a8bf71",
   "metadata": {},
   "outputs": [],
   "source": [
    "email_table_df = pd.read_csv(\"C:/Users/S G Sumanth/Downloads/email_table.csv\")\n",
    "email_opened_df = pd.read_csv(\"C:/Users/S G Sumanth/Downloads/email_opened_table.csv\")\n",
    "email_link_df = pd.read_csv(\"C:/Users/S G Sumanth/Downloads/link_clicked_table.csv\")"
   ]
  },
  {
   "cell_type": "code",
   "execution_count": 92,
   "id": "29803c12-137a-4db9-8ceb-da3bd122cec7",
   "metadata": {},
   "outputs": [],
   "source": [
    "# Merge the email df with opened and link clicked df since we need to know who opened or clicked\n",
    "# By merging we are creating a column for 'opened' and 'clicked' to analyze the click behaviour by feature engineering\n",
    "email_table_df['opened'] = email_table_df['email_id'].isin(email_opened_df['email_id']).astype(int)\n",
    "email_table_df['clicked'] = email_table_df['email_id'].isin(email_link_df['email_id']).astype(int)"
   ]
  },
  {
   "cell_type": "code",
   "execution_count": 93,
   "id": "4aaad2db-ec01-43e0-840d-f53cfc5cd097",
   "metadata": {},
   "outputs": [
    {
     "data": {
      "text/html": [
       "<div>\n",
       "<style scoped>\n",
       "    .dataframe tbody tr th:only-of-type {\n",
       "        vertical-align: middle;\n",
       "    }\n",
       "\n",
       "    .dataframe tbody tr th {\n",
       "        vertical-align: top;\n",
       "    }\n",
       "\n",
       "    .dataframe thead th {\n",
       "        text-align: right;\n",
       "    }\n",
       "</style>\n",
       "<table border=\"1\" class=\"dataframe\">\n",
       "  <thead>\n",
       "    <tr style=\"text-align: right;\">\n",
       "      <th></th>\n",
       "      <th>email_id</th>\n",
       "      <th>email_text</th>\n",
       "      <th>email_version</th>\n",
       "      <th>hour</th>\n",
       "      <th>weekday</th>\n",
       "      <th>user_country</th>\n",
       "      <th>user_past_purchases</th>\n",
       "      <th>opened</th>\n",
       "      <th>clicked</th>\n",
       "    </tr>\n",
       "  </thead>\n",
       "  <tbody>\n",
       "    <tr>\n",
       "      <th>0</th>\n",
       "      <td>85120</td>\n",
       "      <td>short_email</td>\n",
       "      <td>personalized</td>\n",
       "      <td>2</td>\n",
       "      <td>Sunday</td>\n",
       "      <td>US</td>\n",
       "      <td>5</td>\n",
       "      <td>0</td>\n",
       "      <td>0</td>\n",
       "    </tr>\n",
       "    <tr>\n",
       "      <th>1</th>\n",
       "      <td>966622</td>\n",
       "      <td>long_email</td>\n",
       "      <td>personalized</td>\n",
       "      <td>12</td>\n",
       "      <td>Sunday</td>\n",
       "      <td>UK</td>\n",
       "      <td>2</td>\n",
       "      <td>1</td>\n",
       "      <td>1</td>\n",
       "    </tr>\n",
       "    <tr>\n",
       "      <th>2</th>\n",
       "      <td>777221</td>\n",
       "      <td>long_email</td>\n",
       "      <td>personalized</td>\n",
       "      <td>11</td>\n",
       "      <td>Wednesday</td>\n",
       "      <td>US</td>\n",
       "      <td>2</td>\n",
       "      <td>0</td>\n",
       "      <td>0</td>\n",
       "    </tr>\n",
       "    <tr>\n",
       "      <th>3</th>\n",
       "      <td>493711</td>\n",
       "      <td>short_email</td>\n",
       "      <td>generic</td>\n",
       "      <td>6</td>\n",
       "      <td>Monday</td>\n",
       "      <td>UK</td>\n",
       "      <td>1</td>\n",
       "      <td>0</td>\n",
       "      <td>0</td>\n",
       "    </tr>\n",
       "    <tr>\n",
       "      <th>4</th>\n",
       "      <td>106887</td>\n",
       "      <td>long_email</td>\n",
       "      <td>generic</td>\n",
       "      <td>14</td>\n",
       "      <td>Monday</td>\n",
       "      <td>US</td>\n",
       "      <td>6</td>\n",
       "      <td>0</td>\n",
       "      <td>0</td>\n",
       "    </tr>\n",
       "    <tr>\n",
       "      <th>...</th>\n",
       "      <td>...</td>\n",
       "      <td>...</td>\n",
       "      <td>...</td>\n",
       "      <td>...</td>\n",
       "      <td>...</td>\n",
       "      <td>...</td>\n",
       "      <td>...</td>\n",
       "      <td>...</td>\n",
       "      <td>...</td>\n",
       "    </tr>\n",
       "    <tr>\n",
       "      <th>99995</th>\n",
       "      <td>803504</td>\n",
       "      <td>short_email</td>\n",
       "      <td>personalized</td>\n",
       "      <td>4</td>\n",
       "      <td>Monday</td>\n",
       "      <td>US</td>\n",
       "      <td>5</td>\n",
       "      <td>0</td>\n",
       "      <td>0</td>\n",
       "    </tr>\n",
       "    <tr>\n",
       "      <th>99996</th>\n",
       "      <td>899722</td>\n",
       "      <td>long_email</td>\n",
       "      <td>personalized</td>\n",
       "      <td>7</td>\n",
       "      <td>Saturday</td>\n",
       "      <td>US</td>\n",
       "      <td>1</td>\n",
       "      <td>0</td>\n",
       "      <td>0</td>\n",
       "    </tr>\n",
       "    <tr>\n",
       "      <th>99997</th>\n",
       "      <td>449610</td>\n",
       "      <td>long_email</td>\n",
       "      <td>personalized</td>\n",
       "      <td>11</td>\n",
       "      <td>Saturday</td>\n",
       "      <td>UK</td>\n",
       "      <td>6</td>\n",
       "      <td>0</td>\n",
       "      <td>0</td>\n",
       "    </tr>\n",
       "    <tr>\n",
       "      <th>99998</th>\n",
       "      <td>72497</td>\n",
       "      <td>short_email</td>\n",
       "      <td>generic</td>\n",
       "      <td>10</td>\n",
       "      <td>Monday</td>\n",
       "      <td>UK</td>\n",
       "      <td>0</td>\n",
       "      <td>0</td>\n",
       "      <td>0</td>\n",
       "    </tr>\n",
       "    <tr>\n",
       "      <th>99999</th>\n",
       "      <td>348333</td>\n",
       "      <td>long_email</td>\n",
       "      <td>personalized</td>\n",
       "      <td>8</td>\n",
       "      <td>Sunday</td>\n",
       "      <td>UK</td>\n",
       "      <td>1</td>\n",
       "      <td>1</td>\n",
       "      <td>1</td>\n",
       "    </tr>\n",
       "  </tbody>\n",
       "</table>\n",
       "<p>100000 rows × 9 columns</p>\n",
       "</div>"
      ],
      "text/plain": [
       "       email_id   email_text email_version  hour    weekday user_country  \\\n",
       "0         85120  short_email  personalized     2     Sunday           US   \n",
       "1        966622   long_email  personalized    12     Sunday           UK   \n",
       "2        777221   long_email  personalized    11  Wednesday           US   \n",
       "3        493711  short_email       generic     6     Monday           UK   \n",
       "4        106887   long_email       generic    14     Monday           US   \n",
       "...         ...          ...           ...   ...        ...          ...   \n",
       "99995    803504  short_email  personalized     4     Monday           US   \n",
       "99996    899722   long_email  personalized     7   Saturday           US   \n",
       "99997    449610   long_email  personalized    11   Saturday           UK   \n",
       "99998     72497  short_email       generic    10     Monday           UK   \n",
       "99999    348333   long_email  personalized     8     Sunday           UK   \n",
       "\n",
       "       user_past_purchases  opened  clicked  \n",
       "0                        5       0        0  \n",
       "1                        2       1        1  \n",
       "2                        2       0        0  \n",
       "3                        1       0        0  \n",
       "4                        6       0        0  \n",
       "...                    ...     ...      ...  \n",
       "99995                    5       0        0  \n",
       "99996                    1       0        0  \n",
       "99997                    6       0        0  \n",
       "99998                    0       0        0  \n",
       "99999                    1       1        1  \n",
       "\n",
       "[100000 rows x 9 columns]"
      ]
     },
     "execution_count": 93,
     "metadata": {},
     "output_type": "execute_result"
    }
   ],
   "source": [
    "email_table_df"
   ]
  },
  {
   "cell_type": "code",
   "execution_count": 94,
   "id": "e928c1bb-f48a-43d2-8dab-f9d7a2254bc8",
   "metadata": {},
   "outputs": [
    {
     "data": {
      "text/plain": [
       "Index(['email_id', 'email_text', 'email_version', 'hour', 'weekday',\n",
       "       'user_country', 'user_past_purchases', 'opened', 'clicked'],\n",
       "      dtype='object')"
      ]
     },
     "execution_count": 94,
     "metadata": {},
     "output_type": "execute_result"
    }
   ],
   "source": [
    "email_table_df.columns"
   ]
  },
  {
   "cell_type": "markdown",
   "id": "a517ad1a-dc6f-426c-a72b-b54c8f0e4692",
   "metadata": {},
   "source": [
    "## Perform Exploratory Data Analysis on the Dataset"
   ]
  },
  {
   "cell_type": "code",
   "execution_count": 95,
   "id": "6d7cca06-a723-4d97-9eb6-0003a480133f",
   "metadata": {},
   "outputs": [],
   "source": [
    "# Understand the Statistics of the Updated Email Table"
   ]
  },
  {
   "cell_type": "code",
   "execution_count": 96,
   "id": "94a248ad-a92a-4e7b-8dbc-ebf584650674",
   "metadata": {},
   "outputs": [
    {
     "data": {
      "text/plain": [
       "100000"
      ]
     },
     "execution_count": 96,
     "metadata": {},
     "output_type": "execute_result"
    }
   ],
   "source": [
    "# Total emails sent -> Random sample of users have been emailed\n",
    "len(email_table_df)"
   ]
  },
  {
   "cell_type": "code",
   "execution_count": 97,
   "id": "83e097f9-f4d4-4e81-866e-7013ce01d633",
   "metadata": {},
   "outputs": [
    {
     "name": "stdout",
     "output_type": "stream",
     "text": [
      "Email Open Rate: 10.35%\n",
      "Link Click Rate: 2.12%\n"
     ]
    }
   ],
   "source": [
    "# Check the email open and link click rate and understand\n",
    "open_rate = email_table_df['opened'].mean()*100\n",
    "click_rate = email_table_df['clicked'].mean()*100\n",
    "print(f\"Email Open Rate: {open_rate:.2f}%\")\n",
    "print(f\"Link Click Rate: {click_rate:.2f}%\")"
   ]
  },
  {
   "cell_type": "code",
   "execution_count": 98,
   "id": "b38ebdc7-42b4-4ff9-9276-1b10929e33f5",
   "metadata": {},
   "outputs": [
    {
     "data": {
      "text/html": [
       "<div>\n",
       "<style scoped>\n",
       "    .dataframe tbody tr th:only-of-type {\n",
       "        vertical-align: middle;\n",
       "    }\n",
       "\n",
       "    .dataframe tbody tr th {\n",
       "        vertical-align: top;\n",
       "    }\n",
       "\n",
       "    .dataframe thead th {\n",
       "        text-align: right;\n",
       "    }\n",
       "</style>\n",
       "<table border=\"1\" class=\"dataframe\">\n",
       "  <thead>\n",
       "    <tr style=\"text-align: right;\">\n",
       "      <th></th>\n",
       "      <th>opened</th>\n",
       "      <th>clicked</th>\n",
       "    </tr>\n",
       "    <tr>\n",
       "      <th>email_text</th>\n",
       "      <th></th>\n",
       "      <th></th>\n",
       "    </tr>\n",
       "  </thead>\n",
       "  <tbody>\n",
       "    <tr>\n",
       "      <th>long_email</th>\n",
       "      <td>9.117670</td>\n",
       "      <td>1.853767</td>\n",
       "    </tr>\n",
       "    <tr>\n",
       "      <th>short_email</th>\n",
       "      <td>11.585954</td>\n",
       "      <td>2.387177</td>\n",
       "    </tr>\n",
       "  </tbody>\n",
       "</table>\n",
       "</div>"
      ],
      "text/plain": [
       "                opened   clicked\n",
       "email_text                      \n",
       "long_email    9.117670  1.853767\n",
       "short_email  11.585954  2.387177"
      ]
     },
     "execution_count": 98,
     "metadata": {},
     "output_type": "execute_result"
    }
   ],
   "source": [
    "# Group Analysis\n",
    "email_table_df.groupby('email_text')[['opened','clicked']].mean()*100"
   ]
  },
  {
   "cell_type": "code",
   "execution_count": 99,
   "id": "a9172c36-ea34-41e4-b5b0-dde20e38a6e1",
   "metadata": {},
   "outputs": [
    {
     "data": {
      "text/html": [
       "<div>\n",
       "<style scoped>\n",
       "    .dataframe tbody tr th:only-of-type {\n",
       "        vertical-align: middle;\n",
       "    }\n",
       "\n",
       "    .dataframe tbody tr th {\n",
       "        vertical-align: top;\n",
       "    }\n",
       "\n",
       "    .dataframe thead th {\n",
       "        text-align: right;\n",
       "    }\n",
       "</style>\n",
       "<table border=\"1\" class=\"dataframe\">\n",
       "  <thead>\n",
       "    <tr style=\"text-align: right;\">\n",
       "      <th></th>\n",
       "      <th>opened</th>\n",
       "      <th>clicked</th>\n",
       "    </tr>\n",
       "    <tr>\n",
       "      <th>email_version</th>\n",
       "      <th></th>\n",
       "      <th></th>\n",
       "    </tr>\n",
       "  </thead>\n",
       "  <tbody>\n",
       "    <tr>\n",
       "      <th>generic</th>\n",
       "      <td>7.934832</td>\n",
       "      <td>1.513673</td>\n",
       "    </tr>\n",
       "    <tr>\n",
       "      <th>personalized</th>\n",
       "      <td>12.775401</td>\n",
       "      <td>2.729409</td>\n",
       "    </tr>\n",
       "  </tbody>\n",
       "</table>\n",
       "</div>"
      ],
      "text/plain": [
       "                  opened   clicked\n",
       "email_version                     \n",
       "generic         7.934832  1.513673\n",
       "personalized   12.775401  2.729409"
      ]
     },
     "execution_count": 99,
     "metadata": {},
     "output_type": "execute_result"
    }
   ],
   "source": [
    "email_table_df.groupby('email_version')[['opened','clicked']].mean()*100"
   ]
  },
  {
   "cell_type": "code",
   "execution_count": 100,
   "id": "4b3a3e66-b091-4055-9fda-75f9ab69e603",
   "metadata": {},
   "outputs": [
    {
     "data": {
      "text/html": [
       "<div>\n",
       "<style scoped>\n",
       "    .dataframe tbody tr th:only-of-type {\n",
       "        vertical-align: middle;\n",
       "    }\n",
       "\n",
       "    .dataframe tbody tr th {\n",
       "        vertical-align: top;\n",
       "    }\n",
       "\n",
       "    .dataframe thead th {\n",
       "        text-align: right;\n",
       "    }\n",
       "</style>\n",
       "<table border=\"1\" class=\"dataframe\">\n",
       "  <thead>\n",
       "    <tr style=\"text-align: right;\">\n",
       "      <th></th>\n",
       "      <th>opened</th>\n",
       "      <th>clicked</th>\n",
       "    </tr>\n",
       "    <tr>\n",
       "      <th>hour</th>\n",
       "      <th></th>\n",
       "      <th></th>\n",
       "    </tr>\n",
       "  </thead>\n",
       "  <tbody>\n",
       "    <tr>\n",
       "      <th>1</th>\n",
       "      <td>8.842027</td>\n",
       "      <td>1.812801</td>\n",
       "    </tr>\n",
       "    <tr>\n",
       "      <th>2</th>\n",
       "      <td>8.786725</td>\n",
       "      <td>1.632209</td>\n",
       "    </tr>\n",
       "    <tr>\n",
       "      <th>3</th>\n",
       "      <td>8.459870</td>\n",
       "      <td>1.952278</td>\n",
       "    </tr>\n",
       "    <tr>\n",
       "      <th>4</th>\n",
       "      <td>8.822483</td>\n",
       "      <td>1.618641</td>\n",
       "    </tr>\n",
       "    <tr>\n",
       "      <th>5</th>\n",
       "      <td>8.212487</td>\n",
       "      <td>1.801252</td>\n",
       "    </tr>\n",
       "    <tr>\n",
       "      <th>6</th>\n",
       "      <td>9.028801</td>\n",
       "      <td>1.714668</td>\n",
       "    </tr>\n",
       "    <tr>\n",
       "      <th>7</th>\n",
       "      <td>9.007801</td>\n",
       "      <td>1.828376</td>\n",
       "    </tr>\n",
       "    <tr>\n",
       "      <th>8</th>\n",
       "      <td>8.847345</td>\n",
       "      <td>1.893308</td>\n",
       "    </tr>\n",
       "    <tr>\n",
       "      <th>9</th>\n",
       "      <td>12.568883</td>\n",
       "      <td>2.579435</td>\n",
       "    </tr>\n",
       "    <tr>\n",
       "      <th>10</th>\n",
       "      <td>13.239609</td>\n",
       "      <td>2.823961</td>\n",
       "    </tr>\n",
       "    <tr>\n",
       "      <th>11</th>\n",
       "      <td>12.655352</td>\n",
       "      <td>2.712816</td>\n",
       "    </tr>\n",
       "    <tr>\n",
       "      <th>12</th>\n",
       "      <td>12.446220</td>\n",
       "      <td>2.566073</td>\n",
       "    </tr>\n",
       "    <tr>\n",
       "      <th>13</th>\n",
       "      <td>10.912023</td>\n",
       "      <td>1.988891</td>\n",
       "    </tr>\n",
       "    <tr>\n",
       "      <th>14</th>\n",
       "      <td>10.938865</td>\n",
       "      <td>2.074236</td>\n",
       "    </tr>\n",
       "    <tr>\n",
       "      <th>15</th>\n",
       "      <td>10.535356</td>\n",
       "      <td>2.490696</td>\n",
       "    </tr>\n",
       "    <tr>\n",
       "      <th>16</th>\n",
       "      <td>10.474810</td>\n",
       "      <td>2.319681</td>\n",
       "    </tr>\n",
       "    <tr>\n",
       "      <th>17</th>\n",
       "      <td>10.935024</td>\n",
       "      <td>1.848917</td>\n",
       "    </tr>\n",
       "    <tr>\n",
       "      <th>18</th>\n",
       "      <td>9.429979</td>\n",
       "      <td>1.618578</td>\n",
       "    </tr>\n",
       "    <tr>\n",
       "      <th>19</th>\n",
       "      <td>7.513812</td>\n",
       "      <td>1.657459</td>\n",
       "    </tr>\n",
       "    <tr>\n",
       "      <th>20</th>\n",
       "      <td>8.841463</td>\n",
       "      <td>1.219512</td>\n",
       "    </tr>\n",
       "    <tr>\n",
       "      <th>21</th>\n",
       "      <td>5.753425</td>\n",
       "      <td>0.821918</td>\n",
       "    </tr>\n",
       "    <tr>\n",
       "      <th>22</th>\n",
       "      <td>6.372549</td>\n",
       "      <td>1.960784</td>\n",
       "    </tr>\n",
       "    <tr>\n",
       "      <th>23</th>\n",
       "      <td>8.275862</td>\n",
       "      <td>4.137931</td>\n",
       "    </tr>\n",
       "    <tr>\n",
       "      <th>24</th>\n",
       "      <td>15.942029</td>\n",
       "      <td>2.898551</td>\n",
       "    </tr>\n",
       "  </tbody>\n",
       "</table>\n",
       "</div>"
      ],
      "text/plain": [
       "         opened   clicked\n",
       "hour                     \n",
       "1      8.842027  1.812801\n",
       "2      8.786725  1.632209\n",
       "3      8.459870  1.952278\n",
       "4      8.822483  1.618641\n",
       "5      8.212487  1.801252\n",
       "6      9.028801  1.714668\n",
       "7      9.007801  1.828376\n",
       "8      8.847345  1.893308\n",
       "9     12.568883  2.579435\n",
       "10    13.239609  2.823961\n",
       "11    12.655352  2.712816\n",
       "12    12.446220  2.566073\n",
       "13    10.912023  1.988891\n",
       "14    10.938865  2.074236\n",
       "15    10.535356  2.490696\n",
       "16    10.474810  2.319681\n",
       "17    10.935024  1.848917\n",
       "18     9.429979  1.618578\n",
       "19     7.513812  1.657459\n",
       "20     8.841463  1.219512\n",
       "21     5.753425  0.821918\n",
       "22     6.372549  1.960784\n",
       "23     8.275862  4.137931\n",
       "24    15.942029  2.898551"
      ]
     },
     "execution_count": 100,
     "metadata": {},
     "output_type": "execute_result"
    }
   ],
   "source": [
    "email_table_df.groupby('hour')[['opened','clicked']].mean()*100"
   ]
  },
  {
   "cell_type": "code",
   "execution_count": 101,
   "id": "c40f30d5-da25-4ee7-a476-7be08840660c",
   "metadata": {},
   "outputs": [
    {
     "data": {
      "text/html": [
       "<div>\n",
       "<style scoped>\n",
       "    .dataframe tbody tr th:only-of-type {\n",
       "        vertical-align: middle;\n",
       "    }\n",
       "\n",
       "    .dataframe tbody tr th {\n",
       "        vertical-align: top;\n",
       "    }\n",
       "\n",
       "    .dataframe thead th {\n",
       "        text-align: right;\n",
       "    }\n",
       "</style>\n",
       "<table border=\"1\" class=\"dataframe\">\n",
       "  <thead>\n",
       "    <tr style=\"text-align: right;\">\n",
       "      <th></th>\n",
       "      <th>opened</th>\n",
       "      <th>clicked</th>\n",
       "    </tr>\n",
       "    <tr>\n",
       "      <th>weekday</th>\n",
       "      <th></th>\n",
       "      <th></th>\n",
       "    </tr>\n",
       "  </thead>\n",
       "  <tbody>\n",
       "    <tr>\n",
       "      <th>Friday</th>\n",
       "      <td>7.413416</td>\n",
       "      <td>1.403682</td>\n",
       "    </tr>\n",
       "    <tr>\n",
       "      <th>Monday</th>\n",
       "      <td>11.606210</td>\n",
       "      <td>2.290608</td>\n",
       "    </tr>\n",
       "    <tr>\n",
       "      <th>Saturday</th>\n",
       "      <td>8.765186</td>\n",
       "      <td>1.784611</td>\n",
       "    </tr>\n",
       "    <tr>\n",
       "      <th>Sunday</th>\n",
       "      <td>8.764857</td>\n",
       "      <td>1.675123</td>\n",
       "    </tr>\n",
       "    <tr>\n",
       "      <th>Thursday</th>\n",
       "      <td>11.844225</td>\n",
       "      <td>2.444491</td>\n",
       "    </tr>\n",
       "    <tr>\n",
       "      <th>Tuesday</th>\n",
       "      <td>12.048363</td>\n",
       "      <td>2.488864</td>\n",
       "    </tr>\n",
       "    <tr>\n",
       "      <th>Wednesday</th>\n",
       "      <td>12.027833</td>\n",
       "      <td>2.761999</td>\n",
       "    </tr>\n",
       "  </tbody>\n",
       "</table>\n",
       "</div>"
      ],
      "text/plain": [
       "              opened   clicked\n",
       "weekday                       \n",
       "Friday      7.413416  1.403682\n",
       "Monday     11.606210  2.290608\n",
       "Saturday    8.765186  1.784611\n",
       "Sunday      8.764857  1.675123\n",
       "Thursday   11.844225  2.444491\n",
       "Tuesday    12.048363  2.488864\n",
       "Wednesday  12.027833  2.761999"
      ]
     },
     "execution_count": 101,
     "metadata": {},
     "output_type": "execute_result"
    }
   ],
   "source": [
    "email_table_df.groupby('weekday')[['opened','clicked']].mean()*100"
   ]
  },
  {
   "cell_type": "code",
   "execution_count": 102,
   "id": "fda12157-e3e1-496e-aa3a-03e9d5b7835e",
   "metadata": {},
   "outputs": [],
   "source": [
    "top_countries = email_table_df['user_country'].value_counts().head(10)"
   ]
  },
  {
   "cell_type": "code",
   "execution_count": 103,
   "id": "52cfc376-d501-40fe-9c65-9f003177345b",
   "metadata": {},
   "outputs": [
    {
     "data": {
      "text/plain": [
       "user_country\n",
       "US    60099\n",
       "UK    19939\n",
       "FR     9995\n",
       "ES     9967\n",
       "Name: count, dtype: int64"
      ]
     },
     "execution_count": 103,
     "metadata": {},
     "output_type": "execute_result"
    }
   ],
   "source": [
    "top_countries"
   ]
  },
  {
   "cell_type": "code",
   "execution_count": 104,
   "id": "c35dd4e2-a465-4b0a-b071-320846618dcf",
   "metadata": {},
   "outputs": [],
   "source": [
    "top_countries = top_countries.index"
   ]
  },
  {
   "cell_type": "code",
   "execution_count": 105,
   "id": "a162cd92-3443-4e1b-97cd-28ab81d3c92d",
   "metadata": {},
   "outputs": [
    {
     "data": {
      "text/plain": [
       "Index(['US', 'UK', 'FR', 'ES'], dtype='object', name='user_country')"
      ]
     },
     "execution_count": 105,
     "metadata": {},
     "output_type": "execute_result"
    }
   ],
   "source": [
    "top_countries"
   ]
  },
  {
   "cell_type": "code",
   "execution_count": 106,
   "id": "a9980d84-bd87-43ed-a2ce-2c49d2fccd53",
   "metadata": {},
   "outputs": [
    {
     "data": {
      "text/html": [
       "<div>\n",
       "<style scoped>\n",
       "    .dataframe tbody tr th:only-of-type {\n",
       "        vertical-align: middle;\n",
       "    }\n",
       "\n",
       "    .dataframe tbody tr th {\n",
       "        vertical-align: top;\n",
       "    }\n",
       "\n",
       "    .dataframe thead th {\n",
       "        text-align: right;\n",
       "    }\n",
       "</style>\n",
       "<table border=\"1\" class=\"dataframe\">\n",
       "  <thead>\n",
       "    <tr style=\"text-align: right;\">\n",
       "      <th></th>\n",
       "      <th>opened</th>\n",
       "      <th>clicked</th>\n",
       "    </tr>\n",
       "    <tr>\n",
       "      <th>user_country</th>\n",
       "      <th></th>\n",
       "      <th></th>\n",
       "    </tr>\n",
       "  </thead>\n",
       "  <tbody>\n",
       "    <tr>\n",
       "      <th>ES</th>\n",
       "      <td>3.912913</td>\n",
       "      <td>0.832748</td>\n",
       "    </tr>\n",
       "    <tr>\n",
       "      <th>FR</th>\n",
       "      <td>4.062031</td>\n",
       "      <td>0.800400</td>\n",
       "    </tr>\n",
       "    <tr>\n",
       "      <th>UK</th>\n",
       "      <td>12.016651</td>\n",
       "      <td>2.467526</td>\n",
       "    </tr>\n",
       "    <tr>\n",
       "      <th>US</th>\n",
       "      <td>11.902028</td>\n",
       "      <td>2.435981</td>\n",
       "    </tr>\n",
       "  </tbody>\n",
       "</table>\n",
       "</div>"
      ],
      "text/plain": [
       "                 opened   clicked\n",
       "user_country                     \n",
       "ES             3.912913  0.832748\n",
       "FR             4.062031  0.800400\n",
       "UK            12.016651  2.467526\n",
       "US            11.902028  2.435981"
      ]
     },
     "execution_count": 106,
     "metadata": {},
     "output_type": "execute_result"
    }
   ],
   "source": [
    "email_table_df[email_table_df['user_country'].isin(top_countries)].groupby('user_country')[['opened','clicked']].mean()*100"
   ]
  },
  {
   "cell_type": "code",
   "execution_count": 107,
   "id": "cd3d44df-2476-424e-8894-9a277a500b22",
   "metadata": {},
   "outputs": [
    {
     "name": "stderr",
     "output_type": "stream",
     "text": [
      "C:\\Users\\S G Sumanth\\AppData\\Local\\Temp\\ipykernel_8764\\712694345.py:7: FutureWarning: The default of observed=False is deprecated and will be changed to True in a future version of pandas. Pass observed=False to retain current behavior or observed=True to adopt the future default and silence this warning.\n",
      "  email_table_df.groupby('purchase_bin')[['opened', 'clicked']].mean() * 100\n"
     ]
    },
    {
     "data": {
      "text/html": [
       "<div>\n",
       "<style scoped>\n",
       "    .dataframe tbody tr th:only-of-type {\n",
       "        vertical-align: middle;\n",
       "    }\n",
       "\n",
       "    .dataframe tbody tr th {\n",
       "        vertical-align: top;\n",
       "    }\n",
       "\n",
       "    .dataframe thead th {\n",
       "        text-align: right;\n",
       "    }\n",
       "</style>\n",
       "<table border=\"1\" class=\"dataframe\">\n",
       "  <thead>\n",
       "    <tr style=\"text-align: right;\">\n",
       "      <th></th>\n",
       "      <th>opened</th>\n",
       "      <th>clicked</th>\n",
       "    </tr>\n",
       "    <tr>\n",
       "      <th>purchase_bin</th>\n",
       "      <th></th>\n",
       "      <th></th>\n",
       "    </tr>\n",
       "  </thead>\n",
       "  <tbody>\n",
       "    <tr>\n",
       "      <th>0</th>\n",
       "      <td>3.833682</td>\n",
       "      <td>0.050443</td>\n",
       "    </tr>\n",
       "    <tr>\n",
       "      <th>1-5</th>\n",
       "      <td>10.272744</td>\n",
       "      <td>1.580422</td>\n",
       "    </tr>\n",
       "    <tr>\n",
       "      <th>6-10</th>\n",
       "      <td>12.478548</td>\n",
       "      <td>3.141914</td>\n",
       "    </tr>\n",
       "    <tr>\n",
       "      <th>11-20</th>\n",
       "      <td>14.983871</td>\n",
       "      <td>6.016129</td>\n",
       "    </tr>\n",
       "    <tr>\n",
       "      <th>21 and above</th>\n",
       "      <td>40.000000</td>\n",
       "      <td>13.333333</td>\n",
       "    </tr>\n",
       "  </tbody>\n",
       "</table>\n",
       "</div>"
      ],
      "text/plain": [
       "                 opened    clicked\n",
       "purchase_bin                      \n",
       "0              3.833682   0.050443\n",
       "1-5           10.272744   1.580422\n",
       "6-10          12.478548   3.141914\n",
       "11-20         14.983871   6.016129\n",
       "21 and above  40.000000  13.333333"
      ]
     },
     "execution_count": 107,
     "metadata": {},
     "output_type": "execute_result"
    }
   ],
   "source": [
    "# Create bins for user_past_purchases\n",
    "bins = [0, 1, 5, 10, 20, email_table_df['user_past_purchases'].max()]\n",
    "labels = ['0', '1-5', '6-10', '11-20', '21 and above']\n",
    "email_table_df['purchase_bin'] = pd.cut(email_table_df['user_past_purchases'], bins=bins, labels=labels, right=False)\n",
    "\n",
    "# Group by bins\n",
    "email_table_df.groupby('purchase_bin')[['opened', 'clicked']].mean() * 100"
   ]
  },
  {
   "cell_type": "markdown",
   "id": "95839c32-33fd-49bd-acac-f615cb6286fc",
   "metadata": {},
   "source": [
    "## Visualizations"
   ]
  },
  {
   "cell_type": "code",
   "execution_count": 108,
   "id": "2b05b144-147e-4e6f-89a2-8c1a31f7e2d8",
   "metadata": {},
   "outputs": [],
   "source": [
    "# Plotting"
   ]
  },
  {
   "cell_type": "code",
   "execution_count": 109,
   "id": "1592f3df-ebdd-4bae-ae3a-6297e9272ac3",
   "metadata": {},
   "outputs": [],
   "source": [
    "email_text = email_table_df.groupby('email_text')['clicked'].mean().reset_index()"
   ]
  },
  {
   "cell_type": "code",
   "execution_count": 110,
   "id": "2e65f626-def1-4860-8e92-83f53e937356",
   "metadata": {},
   "outputs": [
    {
     "data": {
      "image/png": "[encoded data removed]",
      "text/plain": [
       "<Figure size 600x400 with 1 Axes>"
      ]
     },
     "metadata": {},
     "output_type": "display_data"
    }
   ],
   "source": [
    "plt.figure(figsize=(6, 4))\n",
    "sns.barplot(data=email_text, x='email_text', y='clicked')\n",
    "plt.title('CTR by Email Text')\n",
    "plt.ylabel('CTR')\n",
    "plt.xlabel('Email Text Type')\n",
    "plt.tight_layout()\n",
    "plt.show()"
   ]
  },
  {
   "cell_type": "code",
   "execution_count": 111,
   "id": "677cf495-472b-4e75-9d98-16e75e709d21",
   "metadata": {},
   "outputs": [],
   "source": [
    "email_version = email_table_df.groupby('email_version')['clicked'].mean().reset_index()"
   ]
  },
  {
   "cell_type": "code",
   "execution_count": 112,
   "id": "bc32ebd0-6f10-47e0-aab3-408e97a6ba02",
   "metadata": {},
   "outputs": [
    {
     "data": {
      "image/png": "[encoded data removed]",
      "text/plain": [
       "<Figure size 600x400 with 1 Axes>"
      ]
     },
     "metadata": {},
     "output_type": "display_data"
    }
   ],
   "source": [
    "plt.figure(figsize=(6, 4))\n",
    "sns.barplot(data=email_version, x='email_version', y='clicked')\n",
    "plt.title('CTR by Email Version')\n",
    "plt.ylabel('CTR')\n",
    "plt.xlabel('Email Version Type')\n",
    "plt.tight_layout()\n",
    "plt.show()"
   ]
  },
  {
   "cell_type": "code",
   "execution_count": 113,
   "id": "a3d12bbf-edf4-4ce1-9d1c-e8b2908da66d",
   "metadata": {},
   "outputs": [],
   "source": [
    "email_hour = email_table_df.groupby('hour')['clicked'].mean().reset_index()"
   ]
  },
  {
   "cell_type": "code",
   "execution_count": 114,
   "id": "01970711-4e35-4889-838d-47daa5f835ef",
   "metadata": {},
   "outputs": [
    {
     "data": {
      "image/png": "[encoded data removed]",
      "text/plain": [
       "<Figure size 600x400 with 1 Axes>"
      ]
     },
     "metadata": {},
     "output_type": "display_data"
    }
   ],
   "source": [
    "plt.figure(figsize=(6, 4))\n",
    "sns.barplot(data=email_hour, x='hour', y='clicked')\n",
    "plt.title('CTR by Email Hour')\n",
    "plt.ylabel('CTR')\n",
    "plt.xlabel('Email By Hour Division')\n",
    "plt.tight_layout()\n",
    "plt.show()"
   ]
  },
  {
   "cell_type": "code",
   "execution_count": 115,
   "id": "9f4b3909-306e-45fa-87cc-3f8581479b1c",
   "metadata": {},
   "outputs": [],
   "source": [
    "email_weekday = email_table_df.groupby('weekday')['clicked'].mean().reset_index()"
   ]
  },
  {
   "cell_type": "code",
   "execution_count": 116,
   "id": "42782169-b1e1-41ac-979b-fc31ac581777",
   "metadata": {},
   "outputs": [
    {
     "data": {
      "image/png": "[encoded data removed]",
      "text/plain": [
       "<Figure size 600x400 with 1 Axes>"
      ]
     },
     "metadata": {},
     "output_type": "display_data"
    }
   ],
   "source": [
    "plt.figure(figsize=(6, 4))\n",
    "sns.barplot(data=email_weekday, x='weekday', y='clicked')\n",
    "plt.title('CTR by Email Text')\n",
    "plt.ylabel('CTR')\n",
    "plt.xlabel('Email By Weekday')\n",
    "plt.tight_layout()\n",
    "plt.show()"
   ]
  },
  {
   "cell_type": "markdown",
   "id": "d65614d4-ca30-4626-9614-9750204267c2",
   "metadata": {},
   "source": [
    "## Predictive Modeling Technique for CTR Optimization"
   ]
  },
  {
   "cell_type": "code",
   "execution_count": 117,
   "id": "c4aa402e-eafc-4b90-8574-659627890aad",
   "metadata": {},
   "outputs": [],
   "source": [
    "# Understand the features which directly contribute to maximizing the probability of users clicking the link"
   ]
  },
  {
   "cell_type": "code",
   "execution_count": 118,
   "id": "c4470271-008a-4cc9-97dc-44e7d62f085a",
   "metadata": {},
   "outputs": [],
   "source": [
    "# Preprocessing of the features"
   ]
  },
  {
   "cell_type": "code",
   "execution_count": 119,
   "id": "bd8f4f2c-7376-4287-ae7d-17af3a791fe6",
   "metadata": {},
   "outputs": [],
   "source": [
    "features = ['email_text', 'email_version', 'hour', 'weekday','user_country', 'user_past_purchases']\n",
    "X = pd.get_dummies(email_table_df[features])\n",
    "y = email_table_df['clicked']"
   ]
  },
  {
   "cell_type": "code",
   "execution_count": 122,
   "id": "a6f481ba-079f-42ab-96c8-ebf8aa59cf4d",
   "metadata": {},
   "outputs": [],
   "source": [
    "scaler = StandardScaler()\n",
    "X[['hour','user_past_purchases']] = scaler.fit_transform(X[['hour','user_past_purchases']])"
   ]
  },
  {
   "cell_type": "code",
   "execution_count": 123,
   "id": "0cefd225-6c21-4fbc-8787-adc1f0b56b8d",
   "metadata": {},
   "outputs": [],
   "source": [
    "# Train and test Splitting\n",
    "X_train, X_test, y_train, y_test = train_test_split(X, y, stratify=y, test_size=0.2, random_state=42)"
   ]
  },
  {
   "cell_type": "code",
   "execution_count": 131,
   "id": "a6efd90e-8934-43ce-a9b5-e9d7db68aece",
   "metadata": {},
   "outputs": [
    {
     "data": {
      "text/html": [
       "<style>#sk-container-id-4 {color: black;background-color: white;}#sk-container-id-4 pre{padding: 0;}#sk-container-id-4 div.sk-toggleable {background-color: white;}#sk-container-id-4 label.sk-toggleable__label {cursor: pointer;display: block;width: 100%;margin-bottom: 0;padding: 0.3em;box-sizing: border-box;text-align: center;}#sk-container-id-4 label.sk-toggleable__label-arrow:before {content: \"▸\";float: left;margin-right: 0.25em;color: #696969;}#sk-container-id-4 label.sk-toggleable__label-arrow:hover:before {color: black;}#sk-container-id-4 div.sk-estimator:hover label.sk-toggleable__label-arrow:before {color: black;}#sk-container-id-4 div.sk-toggleable__content {max-height: 0;max-width: 0;overflow: hidden;text-align: left;background-color: #f0f8ff;}#sk-container-id-4 div.sk-toggleable__content pre {margin: 0.2em;color: black;border-radius: 0.25em;background-color: #f0f8ff;}#sk-container-id-4 input.sk-toggleable__control:checked~div.sk-toggleable__content {max-height: 200px;max-width: 100%;overflow: auto;}#sk-container-id-4 input.sk-toggleable__control:checked~label.sk-toggleable__label-arrow:before {content: \"▾\";}#sk-container-id-4 div.sk-estimator input.sk-toggleable__control:checked~label.sk-toggleable__label {background-color: #d4ebff;}#sk-container-id-4 div.sk-label input.sk-toggleable__control:checked~label.sk-toggleable__label {background-color: #d4ebff;}#sk-container-id-4 input.sk-hidden--visually {border: 0;clip: rect(1px 1px 1px 1px);clip: rect(1px, 1px, 1px, 1px);height: 1px;margin: -1px;overflow: hidden;padding: 0;position: absolute;width: 1px;}#sk-container-id-4 div.sk-estimator {font-family: monospace;background-color: #f0f8ff;border: 1px dotted black;border-radius: 0.25em;box-sizing: border-box;margin-bottom: 0.5em;}#sk-container-id-4 div.sk-estimator:hover {background-color: #d4ebff;}#sk-container-id-4 div.sk-parallel-item::after {content: \"\";width: 100%;border-bottom: 1px solid gray;flex-grow: 1;}#sk-container-id-4 div.sk-label:hover label.sk-toggleable__label {background-color: #d4ebff;}#sk-container-id-4 div.sk-serial::before {content: \"\";position: absolute;border-left: 1px solid gray;box-sizing: border-box;top: 0;bottom: 0;left: 50%;z-index: 0;}#sk-container-id-4 div.sk-serial {display: flex;flex-direction: column;align-items: center;background-color: white;padding-right: 0.2em;padding-left: 0.2em;position: relative;}#sk-container-id-4 div.sk-item {position: relative;z-index: 1;}#sk-container-id-4 div.sk-parallel {display: flex;align-items: stretch;justify-content: center;background-color: white;position: relative;}#sk-container-id-4 div.sk-item::before, #sk-container-id-4 div.sk-parallel-item::before {content: \"\";position: absolute;border-left: 1px solid gray;box-sizing: border-box;top: 0;bottom: 0;left: 50%;z-index: -1;}#sk-container-id-4 div.sk-parallel-item {display: flex;flex-direction: column;z-index: 1;position: relative;background-color: white;}#sk-container-id-4 div.sk-parallel-item:first-child::after {align-self: flex-end;width: 50%;}#sk-container-id-4 div.sk-parallel-item:last-child::after {align-self: flex-start;width: 50%;}#sk-container-id-4 div.sk-parallel-item:only-child::after {width: 0;}#sk-container-id-4 div.sk-dashed-wrapped {border: 1px dashed gray;margin: 0 0.4em 0.5em 0.4em;box-sizing: border-box;padding-bottom: 0.4em;background-color: white;}#sk-container-id-4 div.sk-label label {font-family: monospace;font-weight: bold;display: inline-block;line-height: 1.2em;}#sk-container-id-4 div.sk-label-container {text-align: center;}#sk-container-id-4 div.sk-container {/* jupyter's `normalize.less` sets `[hidden] { display: none; }` but bootstrap.min.css set `[hidden] { display: none !important; }` so we also need the `!important` here to be able to override the default hidden behavior on the sphinx rendered scikit-learn.org. See: https://github.com/scikit-learn/scikit-learn/issues/21755 */display: inline-block !important;position: relative;}#sk-container-id-4 div.sk-text-repr-fallback {display: none;}</style><div id=\"sk-container-id-4\" class=\"sk-top-container\"><div class=\"sk-text-repr-fallback\"><pre>LogisticRegression(max_iter=1000)</pre><b>In a Jupyter environment, please rerun this cell to show the HTML representation or trust the notebook. <br />On GitHub, the HTML representation is unable to render, please try loading this page with nbviewer.org.</b></div><div class=\"sk-container\" hidden><div class=\"sk-item\"><div class=\"sk-estimator sk-toggleable\"><input class=\"sk-toggleable__control sk-hidden--visually\" id=\"sk-estimator-id-4\" type=\"checkbox\" checked><label for=\"sk-estimator-id-4\" class=\"sk-toggleable__label sk-toggleable__label-arrow\">LogisticRegression</label><div class=\"sk-toggleable__content\"><pre>LogisticRegression(max_iter=1000)</pre></div></div></div></div></div>"
      ],
      "text/plain": [
       "LogisticRegression(max_iter=1000)"
      ]
     },
     "execution_count": 131,
     "metadata": {},
     "output_type": "execute_result"
    }
   ],
   "source": [
    "# Simple Logistic Regression\n",
    "model1 = LogisticRegression(max_iter=1000)\n",
    "model1.fit(X_train, y_train)"
   ]
  },
  {
   "cell_type": "code",
   "execution_count": 132,
   "id": "0362c61b-817b-4d9f-a0f8-68fd0e4d36a1",
   "metadata": {},
   "outputs": [
    {
     "name": "stdout",
     "output_type": "stream",
     "text": [
      "Simple Logistic Regression Result:\n",
      "              precision    recall  f1-score   support\n",
      "\n",
      "           0       0.98      1.00      0.99     19576\n",
      "           1       0.00      0.00      0.00       424\n",
      "\n",
      "    accuracy                           0.98     20000\n",
      "   macro avg       0.49      0.50      0.49     20000\n",
      "weighted avg       0.96      0.98      0.97     20000\n",
      "\n",
      "ROC AUC Score: 0.7351875081925499\n"
     ]
    },
    {
     "name": "stderr",
     "output_type": "stream",
     "text": [
      "C:\\Users\\S G Sumanth\\anaconda3\\Lib\\site-packages\\sklearn\\metrics\\_classification.py:1344: UndefinedMetricWarning: Precision and F-score are ill-defined and being set to 0.0 in labels with no predicted samples. Use `zero_division` parameter to control this behavior.\n",
      "  _warn_prf(average, modifier, msg_start, len(result))\n",
      "C:\\Users\\S G Sumanth\\anaconda3\\Lib\\site-packages\\sklearn\\metrics\\_classification.py:1344: UndefinedMetricWarning: Precision and F-score are ill-defined and being set to 0.0 in labels with no predicted samples. Use `zero_division` parameter to control this behavior.\n",
      "  _warn_prf(average, modifier, msg_start, len(result))\n",
      "C:\\Users\\S G Sumanth\\anaconda3\\Lib\\site-packages\\sklearn\\metrics\\_classification.py:1344: UndefinedMetricWarning: Precision and F-score are ill-defined and being set to 0.0 in labels with no predicted samples. Use `zero_division` parameter to control this behavior.\n",
      "  _warn_prf(average, modifier, msg_start, len(result))\n"
     ]
    }
   ],
   "source": [
    "# Predict\n",
    "y_pred = model1.predict(X_test)\n",
    "y_proba = model1.predict_proba(X_test)[:, 1]\n",
    "\n",
    "# Evaluation\n",
    "print(\"Simple Logistic Regression Result:\")\n",
    "print(classification_report(y_test, y_pred))\n",
    "print(\"ROC AUC Score:\", roc_auc_score(y_test, y_proba))"
   ]
  },
  {
   "cell_type": "code",
   "execution_count": 133,
   "id": "5fe2b368-09b6-42dd-8b3f-2e7cc2853c4b",
   "metadata": {},
   "outputs": [
    {
     "data": {
      "text/html": [
       "<style>#sk-container-id-5 {color: black;background-color: white;}#sk-container-id-5 pre{padding: 0;}#sk-container-id-5 div.sk-toggleable {background-color: white;}#sk-container-id-5 label.sk-toggleable__label {cursor: pointer;display: block;width: 100%;margin-bottom: 0;padding: 0.3em;box-sizing: border-box;text-align: center;}#sk-container-id-5 label.sk-toggleable__label-arrow:before {content: \"▸\";float: left;margin-right: 0.25em;color: #696969;}#sk-container-id-5 label.sk-toggleable__label-arrow:hover:before {color: black;}#sk-container-id-5 div.sk-estimator:hover label.sk-toggleable__label-arrow:before {color: black;}#sk-container-id-5 div.sk-toggleable__content {max-height: 0;max-width: 0;overflow: hidden;text-align: left;background-color: #f0f8ff;}#sk-container-id-5 div.sk-toggleable__content pre {margin: 0.2em;color: black;border-radius: 0.25em;background-color: #f0f8ff;}#sk-container-id-5 input.sk-toggleable__control:checked~div.sk-toggleable__content {max-height: 200px;max-width: 100%;overflow: auto;}#sk-container-id-5 input.sk-toggleable__control:checked~label.sk-toggleable__label-arrow:before {content: \"▾\";}#sk-container-id-5 div.sk-estimator input.sk-toggleable__control:checked~label.sk-toggleable__label {background-color: #d4ebff;}#sk-container-id-5 div.sk-label input.sk-toggleable__control:checked~label.sk-toggleable__label {background-color: #d4ebff;}#sk-container-id-5 input.sk-hidden--visually {border: 0;clip: rect(1px 1px 1px 1px);clip: rect(1px, 1px, 1px, 1px);height: 1px;margin: -1px;overflow: hidden;padding: 0;position: absolute;width: 1px;}#sk-container-id-5 div.sk-estimator {font-family: monospace;background-color: #f0f8ff;border: 1px dotted black;border-radius: 0.25em;box-sizing: border-box;margin-bottom: 0.5em;}#sk-container-id-5 div.sk-estimator:hover {background-color: #d4ebff;}#sk-container-id-5 div.sk-parallel-item::after {content: \"\";width: 100%;border-bottom: 1px solid gray;flex-grow: 1;}#sk-container-id-5 div.sk-label:hover label.sk-toggleable__label {background-color: #d4ebff;}#sk-container-id-5 div.sk-serial::before {content: \"\";position: absolute;border-left: 1px solid gray;box-sizing: border-box;top: 0;bottom: 0;left: 50%;z-index: 0;}#sk-container-id-5 div.sk-serial {display: flex;flex-direction: column;align-items: center;background-color: white;padding-right: 0.2em;padding-left: 0.2em;position: relative;}#sk-container-id-5 div.sk-item {position: relative;z-index: 1;}#sk-container-id-5 div.sk-parallel {display: flex;align-items: stretch;justify-content: center;background-color: white;position: relative;}#sk-container-id-5 div.sk-item::before, #sk-container-id-5 div.sk-parallel-item::before {content: \"\";position: absolute;border-left: 1px solid gray;box-sizing: border-box;top: 0;bottom: 0;left: 50%;z-index: -1;}#sk-container-id-5 div.sk-parallel-item {display: flex;flex-direction: column;z-index: 1;position: relative;background-color: white;}#sk-container-id-5 div.sk-parallel-item:first-child::after {align-self: flex-end;width: 50%;}#sk-container-id-5 div.sk-parallel-item:last-child::after {align-self: flex-start;width: 50%;}#sk-container-id-5 div.sk-parallel-item:only-child::after {width: 0;}#sk-container-id-5 div.sk-dashed-wrapped {border: 1px dashed gray;margin: 0 0.4em 0.5em 0.4em;box-sizing: border-box;padding-bottom: 0.4em;background-color: white;}#sk-container-id-5 div.sk-label label {font-family: monospace;font-weight: bold;display: inline-block;line-height: 1.2em;}#sk-container-id-5 div.sk-label-container {text-align: center;}#sk-container-id-5 div.sk-container {/* jupyter's `normalize.less` sets `[hidden] { display: none; }` but bootstrap.min.css set `[hidden] { display: none !important; }` so we also need the `!important` here to be able to override the default hidden behavior on the sphinx rendered scikit-learn.org. See: https://github.com/scikit-learn/scikit-learn/issues/21755 */display: inline-block !important;position: relative;}#sk-container-id-5 div.sk-text-repr-fallback {display: none;}</style><div id=\"sk-container-id-5\" class=\"sk-top-container\"><div class=\"sk-text-repr-fallback\"><pre>DecisionTreeClassifier(random_state=42)</pre><b>In a Jupyter environment, please rerun this cell to show the HTML representation or trust the notebook. <br />On GitHub, the HTML representation is unable to render, please try loading this page with nbviewer.org.</b></div><div class=\"sk-container\" hidden><div class=\"sk-item\"><div class=\"sk-estimator sk-toggleable\"><input class=\"sk-toggleable__control sk-hidden--visually\" id=\"sk-estimator-id-5\" type=\"checkbox\" checked><label for=\"sk-estimator-id-5\" class=\"sk-toggleable__label sk-toggleable__label-arrow\">DecisionTreeClassifier</label><div class=\"sk-toggleable__content\"><pre>DecisionTreeClassifier(random_state=42)</pre></div></div></div></div></div>"
      ],
      "text/plain": [
       "DecisionTreeClassifier(random_state=42)"
      ]
     },
     "execution_count": 133,
     "metadata": {},
     "output_type": "execute_result"
    }
   ],
   "source": [
    "# Decision Tree\n",
    "model2 = DecisionTreeClassifier(random_state=42)\n",
    "model2.fit(X_train, y_train)"
   ]
  },
  {
   "cell_type": "code",
   "execution_count": 134,
   "id": "202001e7-f565-4d6c-b976-3a49e43dc7f1",
   "metadata": {},
   "outputs": [
    {
     "name": "stdout",
     "output_type": "stream",
     "text": [
      "Decision Tree Result:\n",
      "              precision    recall  f1-score   support\n",
      "\n",
      "           0       0.98      0.99      0.99     19576\n",
      "           1       0.09      0.02      0.04       424\n",
      "\n",
      "    accuracy                           0.97     20000\n",
      "   macro avg       0.53      0.51      0.51     20000\n",
      "weighted avg       0.96      0.97      0.97     20000\n",
      "\n",
      "ROC AUC Score: 0.5363465492015638\n"
     ]
    }
   ],
   "source": [
    "# Predictions\n",
    "y_pred = model2.predict(X_test)\n",
    "y_proba = model2.predict_proba(X_test)[:, 1]\n",
    "\n",
    "# Evaluation\n",
    "print(\"Decision Tree Result:\")\n",
    "print(classification_report(y_test, y_pred))\n",
    "print(\"ROC AUC Score:\", roc_auc_score(y_test, y_proba))"
   ]
  },
  {
   "cell_type": "code",
   "execution_count": 136,
   "id": "789f453f-0451-4914-8bc6-fb2753f011e3",
   "metadata": {},
   "outputs": [
    {
     "data": {
      "text/html": [
       "<style>#sk-container-id-7 {color: black;background-color: white;}#sk-container-id-7 pre{padding: 0;}#sk-container-id-7 div.sk-toggleable {background-color: white;}#sk-container-id-7 label.sk-toggleable__label {cursor: pointer;display: block;width: 100%;margin-bottom: 0;padding: 0.3em;box-sizing: border-box;text-align: center;}#sk-container-id-7 label.sk-toggleable__label-arrow:before {content: \"▸\";float: left;margin-right: 0.25em;color: #696969;}#sk-container-id-7 label.sk-toggleable__label-arrow:hover:before {color: black;}#sk-container-id-7 div.sk-estimator:hover label.sk-toggleable__label-arrow:before {color: black;}#sk-container-id-7 div.sk-toggleable__content {max-height: 0;max-width: 0;overflow: hidden;text-align: left;background-color: #f0f8ff;}#sk-container-id-7 div.sk-toggleable__content pre {margin: 0.2em;color: black;border-radius: 0.25em;background-color: #f0f8ff;}#sk-container-id-7 input.sk-toggleable__control:checked~div.sk-toggleable__content {max-height: 200px;max-width: 100%;overflow: auto;}#sk-container-id-7 input.sk-toggleable__control:checked~label.sk-toggleable__label-arrow:before {content: \"▾\";}#sk-container-id-7 div.sk-estimator input.sk-toggleable__control:checked~label.sk-toggleable__label {background-color: #d4ebff;}#sk-container-id-7 div.sk-label input.sk-toggleable__control:checked~label.sk-toggleable__label {background-color: #d4ebff;}#sk-container-id-7 input.sk-hidden--visually {border: 0;clip: rect(1px 1px 1px 1px);clip: rect(1px, 1px, 1px, 1px);height: 1px;margin: -1px;overflow: hidden;padding: 0;position: absolute;width: 1px;}#sk-container-id-7 div.sk-estimator {font-family: monospace;background-color: #f0f8ff;border: 1px dotted black;border-radius: 0.25em;box-sizing: border-box;margin-bottom: 0.5em;}#sk-container-id-7 div.sk-estimator:hover {background-color: #d4ebff;}#sk-container-id-7 div.sk-parallel-item::after {content: \"\";width: 100%;border-bottom: 1px solid gray;flex-grow: 1;}#sk-container-id-7 div.sk-label:hover label.sk-toggleable__label {background-color: #d4ebff;}#sk-container-id-7 div.sk-serial::before {content: \"\";position: absolute;border-left: 1px solid gray;box-sizing: border-box;top: 0;bottom: 0;left: 50%;z-index: 0;}#sk-container-id-7 div.sk-serial {display: flex;flex-direction: column;align-items: center;background-color: white;padding-right: 0.2em;padding-left: 0.2em;position: relative;}#sk-container-id-7 div.sk-item {position: relative;z-index: 1;}#sk-container-id-7 div.sk-parallel {display: flex;align-items: stretch;justify-content: center;background-color: white;position: relative;}#sk-container-id-7 div.sk-item::before, #sk-container-id-7 div.sk-parallel-item::before {content: \"\";position: absolute;border-left: 1px solid gray;box-sizing: border-box;top: 0;bottom: 0;left: 50%;z-index: -1;}#sk-container-id-7 div.sk-parallel-item {display: flex;flex-direction: column;z-index: 1;position: relative;background-color: white;}#sk-container-id-7 div.sk-parallel-item:first-child::after {align-self: flex-end;width: 50%;}#sk-container-id-7 div.sk-parallel-item:last-child::after {align-self: flex-start;width: 50%;}#sk-container-id-7 div.sk-parallel-item:only-child::after {width: 0;}#sk-container-id-7 div.sk-dashed-wrapped {border: 1px dashed gray;margin: 0 0.4em 0.5em 0.4em;box-sizing: border-box;padding-bottom: 0.4em;background-color: white;}#sk-container-id-7 div.sk-label label {font-family: monospace;font-weight: bold;display: inline-block;line-height: 1.2em;}#sk-container-id-7 div.sk-label-container {text-align: center;}#sk-container-id-7 div.sk-container {/* jupyter's `normalize.less` sets `[hidden] { display: none; }` but bootstrap.min.css set `[hidden] { display: none !important; }` so we also need the `!important` here to be able to override the default hidden behavior on the sphinx rendered scikit-learn.org. See: https://github.com/scikit-learn/scikit-learn/issues/21755 */display: inline-block !important;position: relative;}#sk-container-id-7 div.sk-text-repr-fallback {display: none;}</style><div id=\"sk-container-id-7\" class=\"sk-top-container\"><div class=\"sk-text-repr-fallback\"><pre>RandomForestClassifier(random_state=42)</pre><b>In a Jupyter environment, please rerun this cell to show the HTML representation or trust the notebook. <br />On GitHub, the HTML representation is unable to render, please try loading this page with nbviewer.org.</b></div><div class=\"sk-container\" hidden><div class=\"sk-item\"><div class=\"sk-estimator sk-toggleable\"><input class=\"sk-toggleable__control sk-hidden--visually\" id=\"sk-estimator-id-7\" type=\"checkbox\" checked><label for=\"sk-estimator-id-7\" class=\"sk-toggleable__label sk-toggleable__label-arrow\">RandomForestClassifier</label><div class=\"sk-toggleable__content\"><pre>RandomForestClassifier(random_state=42)</pre></div></div></div></div></div>"
      ],
      "text/plain": [
       "RandomForestClassifier(random_state=42)"
      ]
     },
     "execution_count": 136,
     "metadata": {},
     "output_type": "execute_result"
    }
   ],
   "source": [
    "# Random Forest\n",
    "model3 = RandomForestClassifier(random_state = 42)\n",
    "model3.fit(X_train, y_train)"
   ]
  },
  {
   "cell_type": "code",
   "execution_count": 137,
   "id": "dfe8d155-6f60-4628-a6fa-4995d2b0ae93",
   "metadata": {},
   "outputs": [
    {
     "name": "stdout",
     "output_type": "stream",
     "text": [
      "Random Forest Result:\n",
      "              precision    recall  f1-score   support\n",
      "\n",
      "           0       0.98      1.00      0.99     19576\n",
      "           1       0.07      0.01      0.02       424\n",
      "\n",
      "    accuracy                           0.98     20000\n",
      "   macro avg       0.52      0.50      0.50     20000\n",
      "weighted avg       0.96      0.98      0.97     20000\n",
      "\n",
      "ROC AUC Score: 0.5771433999853498\n"
     ]
    }
   ],
   "source": [
    "# Predict\n",
    "y_pred = model3.predict(X_test)\n",
    "y_proba = model3.predict_proba(X_test)[:, 1]\n",
    "\n",
    "# Evaluation\n",
    "print(\"Random Forest Result:\")\n",
    "print(classification_report(y_test, y_pred))\n",
    "print(\"ROC AUC Score:\", roc_auc_score(y_test, y_proba))"
   ]
  },
  {
   "cell_type": "markdown",
   "id": "d660ec95-4e41-4456-9ca3-7c3318ff92e8",
   "metadata": {},
   "source": [
    "## Optimizing the Click Through Rate using simulated model-based approach"
   ]
  },
  {
   "cell_type": "code",
   "execution_count": 141,
   "id": "9386b97c-22b7-4c20-bf80-f8a38df052ce",
   "metadata": {},
   "outputs": [],
   "source": [
    "# Predict probabilities for all users\n",
    "email_table_df['click_proba'] = model.predict_proba(X)[:, 1]"
   ]
  },
  {
   "cell_type": "code",
   "execution_count": 146,
   "id": "4d7c8799-ddbb-4eed-8c29-eaaeceda12d6",
   "metadata": {},
   "outputs": [],
   "source": [
    "# Simulate targeting top 40% most likely to click\n",
    "top_n_percent = 0.4\n",
    "top_users = email_table_df.sort_values('click_proba', ascending=False).head(int(top_n_percent * len(email_table_df)))\n",
    "model_ctr = (top_users['clicked'].sum() / len(top_users)) * 100"
   ]
  },
  {
   "cell_type": "code",
   "execution_count": 147,
   "id": "d94bd1ef-4535-429d-bc8a-b38a59bd8ce5",
   "metadata": {},
   "outputs": [
    {
     "data": {
      "text/plain": [
       "4.697500000000001"
      ]
     },
     "execution_count": 147,
     "metadata": {},
     "output_type": "execute_result"
    }
   ],
   "source": [
    "model_ctr"
   ]
  },
  {
   "cell_type": "code",
   "execution_count": 148,
   "id": "5af8ee8a-9ed1-4fcb-a681-c307985f0844",
   "metadata": {},
   "outputs": [],
   "source": [
    "# Follow up has been described in the word document available in Github"
   ]
  },
  {
   "cell_type": "code",
   "execution_count": null,
   "id": "2d8d4030-8a74-40da-849e-7a4c2a4e31c4",
   "metadata": {},
   "outputs": [],
   "source": []
  }
 ],
 "metadata": {
  "kernelspec": {
   "display_name": "Python 3 (ipykernel)",
   "language": "python",
   "name": "python3"
  },
  "language_info": {
   "codemirror_mode": {
    "name": "ipython",
    "version": 3
   },
   "file_extension": ".py",
   "mimetype": "text/x-python",
   "name": "python",
   "nbconvert_exporter": "python",
   "pygments_lexer": "ipython3",
   "version": "3.11.7"
  }
 },
 "nbformat": 4,
 "nbformat_minor": 5
}
